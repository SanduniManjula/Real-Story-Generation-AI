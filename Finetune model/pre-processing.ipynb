{
 "cells": [
  {
   "cell_type": "code",
   "execution_count": null,
   "id": "36e37e0e",
   "metadata": {},
   "outputs": [
    {
     "name": "stdout",
     "output_type": "stream",
     "text": [
      "Cleaned dataset saved to fairy_tales_cleaned.txt with 1651 stories.\n"
     ]
    }
   ],
   "source": [
    "import os\n",
    "import re\n",
    "\n",
    "# Download the dataset from \"https://www.kaggle.com/datasets/annbengardt/fairy-tales-from-around-the-world?resource=download\" and add in folder\n",
    "folder_path = \"fairy_tales\"\n",
    "output_file = \"fairy_tales_cleaned.txt\"\n",
    "\n",
    "# Get all txt files\n",
    "txt_files = sorted([f for f in os.listdir(folder_path) if f.endswith(\".txt\")])\n",
    "\n",
    "all_stories = []\n",
    "\n",
    "for file_name in txt_files:\n",
    "    file_path = os.path.join(folder_path, file_name)\n",
    "    with open(file_path, \"r\", encoding=\"utf-8\", errors=\"ignore\") as f:\n",
    "        lines = f.readlines()\n",
    "\n",
    "    story_lines = []\n",
    "    for line in lines:\n",
    "        line = line.strip()\n",
    "        if not line:  # skip empty lines\n",
    "            continue\n",
    "        # Remove titles or metadata (optional)\n",
    "        if re.match(r\"^[A-Z\\s]{3,}$\", line):\n",
    "            continue\n",
    "        # Normalize quotes, dashes, apostrophes\n",
    "        line = line.replace(\"“\", '\"').replace(\"”\", '\"')\n",
    "        line = line.replace(\"‘\", \"'\").replace(\"’\", \"'\")\n",
    "        line = line.replace(\"—\", \"-\").replace(\"–\", \"-\")\n",
    "        story_lines.append(line)\n",
    "\n",
    "    if story_lines:\n",
    "        story_text = \" \".join(story_lines)  # join paragraphs with space\n",
    "        story_text += \" <|endofstory|>\"     # add story separator\n",
    "        all_stories.append(story_text)\n",
    "\n",
    "# Save cleaned dataset\n",
    "with open(output_file, \"w\", encoding=\"utf-8\") as f:\n",
    "    f.write(\"\\n\".join(all_stories))\n",
    "\n",
    "print(f\"Cleaned dataset saved to {output_file} with {len(all_stories)} stories.\")\n"
   ]
  }
 ],
 "metadata": {
  "kernelspec": {
   "display_name": "base",
   "language": "python",
   "name": "python3"
  },
  "language_info": {
   "codemirror_mode": {
    "name": "ipython",
    "version": 3
   },
   "file_extension": ".py",
   "mimetype": "text/x-python",
   "name": "python",
   "nbconvert_exporter": "python",
   "pygments_lexer": "ipython3",
   "version": "3.11.5"
  }
 },
 "nbformat": 4,
 "nbformat_minor": 5
}
