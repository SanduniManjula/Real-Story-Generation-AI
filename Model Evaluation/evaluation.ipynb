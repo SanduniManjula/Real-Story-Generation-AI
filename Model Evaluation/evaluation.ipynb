{
  "nbformat": 4,
  "nbformat_minor": 0,
  "metadata": {
    "colab": {
      "provenance": [],
      "gpuType": "T4"
    },
    "kernelspec": {
      "name": "python3",
      "display_name": "Python 3"
    },
    "language_info": {
      "name": "python"
    },
    "accelerator": "GPU"
  },
  "cells": [
    {
      "cell_type": "code",
      "execution_count": 2,
      "metadata": {
        "colab": {
          "base_uri": "https://localhost:8080/",
          "height": 421
        },
        "id": "VrB92TMBkuqz",
        "outputId": "3aac0deb-0a2a-4bbb-d5c5-6185d1bdfcc6"
      },
      "outputs": [
        {
          "output_type": "stream",
          "name": "stdout",
          "text": [
            "Drive already mounted at /content/drive; to attempt to forcibly remount, call drive.mount(\"/content/drive\", force_remount=True).\n"
          ]
        },
        {
          "output_type": "stream",
          "name": "stderr",
          "text": [
            "/tmp/ipython-input-717225347.py:75: FutureWarning: `tokenizer` is deprecated and will be removed in version 5.0.0 for `Trainer.__init__`. Use `processing_class` instead.\n",
            "  trainer = Trainer(\n"
          ]
        },
        {
          "output_type": "display_data",
          "data": {
            "text/plain": [
              "<IPython.core.display.HTML object>"
            ],
            "text/html": [
              "\n",
              "    <div>\n",
              "      \n",
              "      <progress value='63' max='63' style='width:300px; height:20px; vertical-align: middle;'></progress>\n",
              "      [63/63 30:10]\n",
              "    </div>\n",
              "    "
            ]
          },
          "metadata": {}
        },
        {
          "output_type": "stream",
          "name": "stderr",
          "text": [
            "/usr/local/lib/python3.12/dist-packages/notebook/notebookapp.py:191: SyntaxWarning: invalid escape sequence '\\/'\n",
            "  | |_| | '_ \\/ _` / _` |  _/ -_)\n"
          ]
        },
        {
          "output_type": "display_data",
          "data": {
            "text/plain": [
              "<IPython.core.display.Javascript object>"
            ],
            "application/javascript": [
              "\n",
              "        window._wandbApiKey = new Promise((resolve, reject) => {\n",
              "            function loadScript(url) {\n",
              "            return new Promise(function(resolve, reject) {\n",
              "                let newScript = document.createElement(\"script\");\n",
              "                newScript.onerror = reject;\n",
              "                newScript.onload = resolve;\n",
              "                document.body.appendChild(newScript);\n",
              "                newScript.src = url;\n",
              "            });\n",
              "            }\n",
              "            loadScript(\"https://cdn.jsdelivr.net/npm/postmate/build/postmate.min.js\").then(() => {\n",
              "            const iframe = document.createElement('iframe')\n",
              "            iframe.style.cssText = \"width:0;height:0;border:none\"\n",
              "            document.body.appendChild(iframe)\n",
              "            const handshake = new Postmate({\n",
              "                container: iframe,\n",
              "                url: 'https://wandb.ai/authorize'\n",
              "            });\n",
              "            const timeout = setTimeout(() => reject(\"Couldn't auto authenticate\"), 5000)\n",
              "            handshake.then(function(child) {\n",
              "                child.on('authorize', data => {\n",
              "                    clearTimeout(timeout)\n",
              "                    resolve(data)\n",
              "                });\n",
              "            });\n",
              "            })\n",
              "        });\n",
              "    "
            ]
          },
          "metadata": {}
        },
        {
          "output_type": "stream",
          "name": "stderr",
          "text": [
            "\u001b[34m\u001b[1mwandb\u001b[0m: Logging into wandb.ai. (Learn how to deploy a W&B server locally: https://wandb.me/wandb-server)\n",
            "\u001b[34m\u001b[1mwandb\u001b[0m: You can find your API key in your browser here: https://wandb.ai/authorize?ref=models\n",
            "wandb: Paste an API key from your profile and hit enter:"
          ]
        },
        {
          "name": "stdout",
          "output_type": "stream",
          "text": [
            " ··········\n"
          ]
        },
        {
          "output_type": "stream",
          "name": "stderr",
          "text": [
            "\u001b[34m\u001b[1mwandb\u001b[0m: \u001b[33mWARNING\u001b[0m If you're specifying your api key in code, ensure this code is not shared publicly.\n",
            "\u001b[34m\u001b[1mwandb\u001b[0m: \u001b[33mWARNING\u001b[0m Consider setting the WANDB_API_KEY environment variable, or running `wandb login` from the command line.\n",
            "\u001b[34m\u001b[1mwandb\u001b[0m: No netrc file found, creating one.\n",
            "\u001b[34m\u001b[1mwandb\u001b[0m: Appending key for api.wandb.ai to your netrc file: /root/.netrc\n",
            "\u001b[34m\u001b[1mwandb\u001b[0m: Currently logged in as: \u001b[33mnipunikumudika\u001b[0m (\u001b[33mnipunikumudika-home\u001b[0m) to \u001b[32mhttps://api.wandb.ai\u001b[0m. Use \u001b[1m`wandb login --relogin`\u001b[0m to force relogin\n"
          ]
        },
        {
          "output_type": "display_data",
          "data": {
            "text/plain": [
              "<IPython.core.display.HTML object>"
            ],
            "text/html": [
              "creating run (0.0s)"
            ]
          },
          "metadata": {}
        },
        {
          "output_type": "display_data",
          "data": {
            "text/plain": [
              "<IPython.core.display.HTML object>"
            ],
            "text/html": [
              "Tracking run with wandb version 0.21.3"
            ]
          },
          "metadata": {}
        },
        {
          "output_type": "display_data",
          "data": {
            "text/plain": [
              "<IPython.core.display.HTML object>"
            ],
            "text/html": [
              "Run data is saved locally in <code>/content/wandb/run-20250907_152308-0irai5nr</code>"
            ]
          },
          "metadata": {}
        },
        {
          "output_type": "display_data",
          "data": {
            "text/plain": [
              "<IPython.core.display.HTML object>"
            ],
            "text/html": [
              "Syncing run <strong><a href='https://wandb.ai/nipunikumudika-home/huggingface/runs/0irai5nr' target=\"_blank\">quiet-pine-3</a></strong> to <a href='https://wandb.ai/nipunikumudika-home/huggingface' target=\"_blank\">Weights & Biases</a> (<a href='https://wandb.me/developer-guide' target=\"_blank\">docs</a>)<br>"
            ]
          },
          "metadata": {}
        },
        {
          "output_type": "display_data",
          "data": {
            "text/plain": [
              "<IPython.core.display.HTML object>"
            ],
            "text/html": [
              " View project at <a href='https://wandb.ai/nipunikumudika-home/huggingface' target=\"_blank\">https://wandb.ai/nipunikumudika-home/huggingface</a>"
            ]
          },
          "metadata": {}
        },
        {
          "output_type": "display_data",
          "data": {
            "text/plain": [
              "<IPython.core.display.HTML object>"
            ],
            "text/html": [
              " View run at <a href='https://wandb.ai/nipunikumudika-home/huggingface/runs/0irai5nr' target=\"_blank\">https://wandb.ai/nipunikumudika-home/huggingface/runs/0irai5nr</a>"
            ]
          },
          "metadata": {}
        },
        {
          "output_type": "stream",
          "name": "stdout",
          "text": [
            "Perplexity on first 500 stories: 1.7614142689378363\n"
          ]
        }
      ],
      "source": [
        "# -----------------------------\n",
        "# Mount Google Drive\n",
        "# -----------------------------\n",
        "from google.colab import drive\n",
        "drive.mount('/content/drive')\n",
        "\n",
        "# -----------------------------\n",
        "# Imports\n",
        "# -----------------------------\n",
        "from transformers import GPT2Tokenizer, GPT2LMHeadModel, Trainer, TrainingArguments, DataCollatorForLanguageModeling\n",
        "from torch.utils.data import Dataset\n",
        "import torch\n",
        "import math\n",
        "import os\n",
        "\n",
        "# -----------------------------\n",
        "# Paths\n",
        "# -----------------------------\n",
        "output_dir = \"/content/drive/MyDrive/gpt2-fairytales-medium\"  # your saved model\n",
        "cleaned_dataset_file = \"fairy_tales_cleaned.txt\"              # your cleaned dataset\n",
        "\n",
        "# -----------------------------\n",
        "# Load saved model & tokenizer\n",
        "# -----------------------------\n",
        "tokenizer = GPT2Tokenizer.from_pretrained(output_dir)\n",
        "tokenizer.pad_token = tokenizer.eos_token\n",
        "model = GPT2LMHeadModel.from_pretrained(output_dir)\n",
        "\n",
        "# -----------------------------\n",
        "# Load cleaned dataset (first 500 lines only)\n",
        "# -----------------------------\n",
        "with open(cleaned_dataset_file, \"r\", encoding=\"utf-8\") as f:\n",
        "    lines = [line.strip() for line in f if line.strip()]\n",
        "\n",
        "subset_lines = lines[:500]  # take first 500 stories\n",
        "\n",
        "# -----------------------------\n",
        "# Dataset class\n",
        "# -----------------------------\n",
        "class StoryDataset(Dataset):\n",
        "    def __init__(self, texts, tokenizer, block_size=256):\n",
        "        self.examples = []\n",
        "        for story in texts:\n",
        "            tokenized = tokenizer(\n",
        "                story,\n",
        "                truncation=True,\n",
        "                max_length=block_size,\n",
        "                padding=\"max_length\",\n",
        "                return_tensors=\"pt\"\n",
        "            )\n",
        "            self.examples.append(tokenized[\"input_ids\"].squeeze())\n",
        "\n",
        "    def __len__(self):\n",
        "        return len(self.examples)\n",
        "\n",
        "    def __getitem__(self, i):\n",
        "        return self.examples[i]\n",
        "\n",
        "eval_dataset = StoryDataset(subset_lines, tokenizer)\n",
        "\n",
        "# -----------------------------\n",
        "# Data collator (for language modeling)\n",
        "# -----------------------------\n",
        "data_collator = DataCollatorForLanguageModeling(tokenizer=tokenizer, mlm=False)\n",
        "\n",
        "# -----------------------------\n",
        "# Temporary Trainer just for evaluation\n",
        "# -----------------------------\n",
        "training_args = TrainingArguments(\n",
        "    output_dir=\"./temp\",\n",
        "    per_device_eval_batch_size=8,  # larger batch to speed up evaluation\n",
        "    fp16=True                      # mixed precision for faster evaluation on GPU\n",
        ")\n",
        "\n",
        "trainer = Trainer(\n",
        "    model=model,\n",
        "    args=training_args,\n",
        "    eval_dataset=eval_dataset,\n",
        "    tokenizer=tokenizer,\n",
        "    data_collator=data_collator\n",
        ")\n",
        "\n",
        "# -----------------------------\n",
        "# Evaluate Perplexity\n",
        "# -----------------------------\n",
        "results = trainer.evaluate()\n",
        "perplexity = math.exp(results[\"eval_loss\"])\n",
        "print(\"Perplexity on first 500 stories:\", perplexity)\n"
      ]
    },
    {
      "cell_type": "code",
      "source": [
        "!pip install evaluate"
      ],
      "metadata": {
        "colab": {
          "base_uri": "https://localhost:8080/"
        },
        "id": "Amyz6fomyATI",
        "outputId": "a5ced5d2-f32f-4204-c3bb-f7c212f1ffe5"
      },
      "execution_count": 5,
      "outputs": [
        {
          "output_type": "stream",
          "name": "stdout",
          "text": [
            "Collecting evaluate\n",
            "  Downloading evaluate-0.4.5-py3-none-any.whl.metadata (9.5 kB)\n",
            "Requirement already satisfied: datasets>=2.0.0 in /usr/local/lib/python3.12/dist-packages (from evaluate) (4.0.0)\n",
            "Requirement already satisfied: numpy>=1.17 in /usr/local/lib/python3.12/dist-packages (from evaluate) (2.0.2)\n",
            "Requirement already satisfied: dill in /usr/local/lib/python3.12/dist-packages (from evaluate) (0.3.8)\n",
            "Requirement already satisfied: pandas in /usr/local/lib/python3.12/dist-packages (from evaluate) (2.2.2)\n",
            "Requirement already satisfied: requests>=2.19.0 in /usr/local/lib/python3.12/dist-packages (from evaluate) (2.32.4)\n",
            "Requirement already satisfied: tqdm>=4.62.1 in /usr/local/lib/python3.12/dist-packages (from evaluate) (4.67.1)\n",
            "Requirement already satisfied: xxhash in /usr/local/lib/python3.12/dist-packages (from evaluate) (3.5.0)\n",
            "Requirement already satisfied: multiprocess in /usr/local/lib/python3.12/dist-packages (from evaluate) (0.70.16)\n",
            "Requirement already satisfied: fsspec>=2021.05.0 in /usr/local/lib/python3.12/dist-packages (from fsspec[http]>=2021.05.0->evaluate) (2025.3.0)\n",
            "Requirement already satisfied: huggingface-hub>=0.7.0 in /usr/local/lib/python3.12/dist-packages (from evaluate) (0.34.4)\n",
            "Requirement already satisfied: packaging in /usr/local/lib/python3.12/dist-packages (from evaluate) (25.0)\n",
            "Requirement already satisfied: filelock in /usr/local/lib/python3.12/dist-packages (from datasets>=2.0.0->evaluate) (3.19.1)\n",
            "Requirement already satisfied: pyarrow>=15.0.0 in /usr/local/lib/python3.12/dist-packages (from datasets>=2.0.0->evaluate) (18.1.0)\n",
            "Requirement already satisfied: pyyaml>=5.1 in /usr/local/lib/python3.12/dist-packages (from datasets>=2.0.0->evaluate) (6.0.2)\n",
            "Requirement already satisfied: aiohttp!=4.0.0a0,!=4.0.0a1 in /usr/local/lib/python3.12/dist-packages (from fsspec[http]>=2021.05.0->evaluate) (3.12.15)\n",
            "Requirement already satisfied: typing-extensions>=3.7.4.3 in /usr/local/lib/python3.12/dist-packages (from huggingface-hub>=0.7.0->evaluate) (4.15.0)\n",
            "Requirement already satisfied: hf-xet<2.0.0,>=1.1.3 in /usr/local/lib/python3.12/dist-packages (from huggingface-hub>=0.7.0->evaluate) (1.1.9)\n",
            "Requirement already satisfied: charset_normalizer<4,>=2 in /usr/local/lib/python3.12/dist-packages (from requests>=2.19.0->evaluate) (3.4.3)\n",
            "Requirement already satisfied: idna<4,>=2.5 in /usr/local/lib/python3.12/dist-packages (from requests>=2.19.0->evaluate) (3.10)\n",
            "Requirement already satisfied: urllib3<3,>=1.21.1 in /usr/local/lib/python3.12/dist-packages (from requests>=2.19.0->evaluate) (2.5.0)\n",
            "Requirement already satisfied: certifi>=2017.4.17 in /usr/local/lib/python3.12/dist-packages (from requests>=2.19.0->evaluate) (2025.8.3)\n",
            "Requirement already satisfied: python-dateutil>=2.8.2 in /usr/local/lib/python3.12/dist-packages (from pandas->evaluate) (2.9.0.post0)\n",
            "Requirement already satisfied: pytz>=2020.1 in /usr/local/lib/python3.12/dist-packages (from pandas->evaluate) (2025.2)\n",
            "Requirement already satisfied: tzdata>=2022.7 in /usr/local/lib/python3.12/dist-packages (from pandas->evaluate) (2025.2)\n",
            "Requirement already satisfied: aiohappyeyeballs>=2.5.0 in /usr/local/lib/python3.12/dist-packages (from aiohttp!=4.0.0a0,!=4.0.0a1->fsspec[http]>=2021.05.0->evaluate) (2.6.1)\n",
            "Requirement already satisfied: aiosignal>=1.4.0 in /usr/local/lib/python3.12/dist-packages (from aiohttp!=4.0.0a0,!=4.0.0a1->fsspec[http]>=2021.05.0->evaluate) (1.4.0)\n",
            "Requirement already satisfied: attrs>=17.3.0 in /usr/local/lib/python3.12/dist-packages (from aiohttp!=4.0.0a0,!=4.0.0a1->fsspec[http]>=2021.05.0->evaluate) (25.3.0)\n",
            "Requirement already satisfied: frozenlist>=1.1.1 in /usr/local/lib/python3.12/dist-packages (from aiohttp!=4.0.0a0,!=4.0.0a1->fsspec[http]>=2021.05.0->evaluate) (1.7.0)\n",
            "Requirement already satisfied: multidict<7.0,>=4.5 in /usr/local/lib/python3.12/dist-packages (from aiohttp!=4.0.0a0,!=4.0.0a1->fsspec[http]>=2021.05.0->evaluate) (6.6.4)\n",
            "Requirement already satisfied: propcache>=0.2.0 in /usr/local/lib/python3.12/dist-packages (from aiohttp!=4.0.0a0,!=4.0.0a1->fsspec[http]>=2021.05.0->evaluate) (0.3.2)\n",
            "Requirement already satisfied: yarl<2.0,>=1.17.0 in /usr/local/lib/python3.12/dist-packages (from aiohttp!=4.0.0a0,!=4.0.0a1->fsspec[http]>=2021.05.0->evaluate) (1.20.1)\n",
            "Requirement already satisfied: six>=1.5 in /usr/local/lib/python3.12/dist-packages (from python-dateutil>=2.8.2->pandas->evaluate) (1.17.0)\n",
            "Downloading evaluate-0.4.5-py3-none-any.whl (84 kB)\n",
            "\u001b[2K   \u001b[90m━━━━━━━━━━━━━━━━━━━━━━━━━━━━━━━━━━━━━━━━\u001b[0m \u001b[32m84.1/84.1 kB\u001b[0m \u001b[31m2.4 MB/s\u001b[0m eta \u001b[36m0:00:00\u001b[0m\n",
            "\u001b[?25hInstalling collected packages: evaluate\n",
            "Successfully installed evaluate-0.4.5\n"
          ]
        }
      ]
    },
    {
      "cell_type": "code",
      "source": [
        "!pip install rouge_score"
      ],
      "metadata": {
        "colab": {
          "base_uri": "https://localhost:8080/"
        },
        "id": "dOeulXQ-0M7c",
        "outputId": "6aa7d9a4-3936-4d34-ed5e-80e966859026"
      },
      "execution_count": 7,
      "outputs": [
        {
          "output_type": "stream",
          "name": "stdout",
          "text": [
            "Collecting rouge_score\n",
            "  Downloading rouge_score-0.1.2.tar.gz (17 kB)\n",
            "  Preparing metadata (setup.py) ... \u001b[?25l\u001b[?25hdone\n",
            "Requirement already satisfied: absl-py in /usr/local/lib/python3.12/dist-packages (from rouge_score) (1.4.0)\n",
            "Requirement already satisfied: nltk in /usr/local/lib/python3.12/dist-packages (from rouge_score) (3.9.1)\n",
            "Requirement already satisfied: numpy in /usr/local/lib/python3.12/dist-packages (from rouge_score) (2.0.2)\n",
            "Requirement already satisfied: six>=1.14.0 in /usr/local/lib/python3.12/dist-packages (from rouge_score) (1.17.0)\n",
            "Requirement already satisfied: click in /usr/local/lib/python3.12/dist-packages (from nltk->rouge_score) (8.2.1)\n",
            "Requirement already satisfied: joblib in /usr/local/lib/python3.12/dist-packages (from nltk->rouge_score) (1.5.2)\n",
            "Requirement already satisfied: regex>=2021.8.3 in /usr/local/lib/python3.12/dist-packages (from nltk->rouge_score) (2024.11.6)\n",
            "Requirement already satisfied: tqdm in /usr/local/lib/python3.12/dist-packages (from nltk->rouge_score) (4.67.1)\n",
            "Building wheels for collected packages: rouge_score\n",
            "  Building wheel for rouge_score (setup.py) ... \u001b[?25l\u001b[?25hdone\n",
            "  Created wheel for rouge_score: filename=rouge_score-0.1.2-py3-none-any.whl size=24934 sha256=9c6b580e62a6d14578bfb949ab7f7f7e75cc2c71fda2d567d554771907a96c8c\n",
            "  Stored in directory: /root/.cache/pip/wheels/85/9d/af/01feefbe7d55ef5468796f0c68225b6788e85d9d0a281e7a70\n",
            "Successfully built rouge_score\n",
            "Installing collected packages: rouge_score\n",
            "Successfully installed rouge_score-0.1.2\n"
          ]
        }
      ]
    },
    {
      "cell_type": "code",
      "source": [
        "\n",
        "\n",
        "\n",
        "reference_story = \"Once there lived a certain king who understood the language of all birds and beasts and insects. This knowledge had of course been given him by a fairy godmother; but it was rather a troublesome present, for he knew that if he were ever to reveal anything he had thus learned he would turn into a stone. How he managed to avoid doing so long before this story opens I cannot say, but he had safely grown up to manhood, and married a wife, and was as happy as monarchs generally are.  This king, I must tell you, was a Hindu; and when a Hindu eats his food he has a nice little place on the ground freshly plastered with mud, and he sits in the middle of it with very few clothes on--which is quite a different way from ours.  Well, one day the king was eating his dinner in just such a nice, clean, mud-plastered spot, and his wife was sitting opposite to wait upon him and keep him company. As he ate he dropped some grains of rice upon the ground, and a little ant, who was running about seeking a living, seized upon one of the grains and bore it off towards his hole. Just outside the king's circle this ant met another ant, and the king heard the second one say:  'Oh, dear friend, do give me that grain of rice, and get another one for yourself. You see my boots are so dirty that, if I were to go upon the king's eating place, I should defile it, and I can't do that, it would be so very rude.'  But the owner of the grain of rice only replied:  'If you want rice go and get it. No one will notice your dirty boots; and you don't suppose that I am going to carry rice for all our kindred?'  Then the king laughed.  The queen looked at herself up and down, but she could not see or feel anything in her appearance to make the king laugh, so she said:  'What are you laughing at?'  'Did I laugh?' replied the king.  'Of course you did,' retorted the queen; 'and if you think that I am ridiculous I wish you would say so, instead of behaving in that stupid way! What are you laughing at?'  'I'm not laughing at anything,' answered the king.  'Very well, but you _did_ laugh, and I want to know why.'  'Well, I'm afraid I can't tell you,' said the king.  'You _must_ tell me,' replied the queen impatiently. 'If you laugh when there's nothing to laugh at you must be ill or mad. What is the matter?'  Still the king refused to say, and still the queen declared that she must and would know. For days the quarrel went on, and the queen gave her husband no rest, until at last the poor man was almost out of his wits, and thought that, as life had become for him hardly worth living while this went on, he might as well tell her the secret and take the consequences.  'But,' thought he, 'if I am to become a stone, I am not going to lie, if I can help it, on some dusty highway, to be kicked here and there by man and beast, flung at dogs, be used as the plaything of naughty children, and become generally restless and miserable. I will be a stone at the bottom of the cool river, and roll gently about there until I find some secure resting-place where I can stay for ever.'  So he told his wife that if she would ride with him to the middle of the river he would tell her what he had laughed at. She thought he was joking, and laughingly agreed; their horses were ordered and they set out.      On the way they came to a fine well beneath the shade of some lofty, wide-spreading trees, and the king proposed that they should get off and rest a little, drink some of the cool water, and then pass on. To this the queen consented; so they dismounted and sat down in the shade by the well-side to rest.  It happened that an old goat and his wife were browsing in the neighbourhood, and, as the king and queen sat there, the nanny goat came to the well's brink and peering over saw some lovely green leaves that sprang in tender shoots out of the side of the well.  'Oh!' cried she to her husband, 'come quickly and look. Here are some leaves which make my mouth water; come and get them for me!'  Then the billy goat sauntered up and looked over, and after that he eyed his wife a little crossly.  'You expect me to get you those leaves, do you? I suppose you don't consider how in the world I am to reach them? You don't seem to think at all; if you did you would know that if I tried to reach those leaves I should fall into the well and be drowned!'  'Oh,' cried the nanny goat, 'why should you fall in? Do try and get them!'  'I am not going to be so silly,' replied the billy goat.  But the nanny goat still wept and entreated.  'Look here,' said her husband, 'there are plenty of fools in the world, but I am not one of them. This silly king here, because he can't cure his wife of asking questions, is going to throw his life away. But I know how to cure you of your follies, and I'm going to.'  And with that he butted the nanny goat so severely that in two minutes she was submissively feeding somewhere else, and had made up her mind that the leaves in the well were not worth having.  Then the king, who had understood every word, laughed once more.  The queen looked at him suspiciously, but the king got up and walked across to where she sat.  'Are you still determined to find out what I was laughing at the other day?' he asked.  'Quite,' answered the queen angrily.  'Because,' said the king, tapping his leg with his riding whip, 'I've made up my mind not to tell you, and moreover, I have made up my mind to stop you mentioning the subject any more.'  'What _do_ you mean?' asked the queen nervously.  'Well,' replied the king, 'I notice that if that goat is displeased with his wife, he just butts her, and that seems to settle the question----'  'Do you mean to say you would _beat_ me?' cried the queen.  'I should be extremely sorry to have to do so,' replied the king; 'but I have got to persuade you to go home quietly, and to ask no more silly questions when I say I cannot answer them. Of course, if you _will_ persist, why----'  And the queen went home, and so did the king; and it is said that they are both happier and wiser than ever before.  (Punjâbi Story, Major Campbell, Feroshepore) <|endofstory|>\""
      ],
      "metadata": {
        "id": "z389zrrjqSmG"
      },
      "execution_count": 14,
      "outputs": []
    },
    {
      "cell_type": "code",
      "source": [
        "generated_story = \"\"\"Once there lived a certain king who understood the language of all birdsAn old woman sat at her kitchen table, stirring curds and making custards with some fresh eggs and a potful of butter broth. Suddenly she saw something shining come dancing down from above her. It leaped about two feet high and made such crackling sounds as sent shivers up one's spines. \"Oh! Hoity-toity!\" shrieked Maie, jumping up and hurrying downstairs. \"It is a falcon! See what it does!\" Quickly setting the dishes down on another dish covered her head, Miëln left off washing the curds, put them back in their places without upsetting them (for which reason so many delighted Mies obtained good repute as well), stood up and asked the bird why it had done such amazing tricks, went aloft like someone soaring over earth, whiskers erect, plucked fruit out once ready laid; then swooping again home settled firmly in place like swallows, devoured everything under grass, nestled securely against trees and never stirred again until evening came round--always returning unharmed to the same spot whence it had come down or swoopingly scampered overhead. This wonderful bird, called Merlin, had three faces, each half-moon shaped and half serpentine. His body was entirely made only by magic, invisible hands, feet and wings having been added after diligent study. He gained admittance into the King Henry's court chiefly because of these talons, not because any prince liked him better than others. Yet those princes were often deceived by the mere sound sometimes given off by this mysterious being, for they followed whatever he said regardless if it proved to be a lie or truth. With regard always to the princesses whom he courted, though every suitor wisely observed precautions to prevent either false reports arising among them whatsoever nor false reports concerning their secret lovers being spread abroad, yet several months passed before anything could have happened otherwise than what might reasonably Have been expected.[14] When a girl became pregnant during this time a special agent of Habsburg China visited the royal castle frequently, giving orders that none should approach the proud monarch except strictly invited guests, bearing valid documents from the sovereign's minister. In due time a young Princess Mary came of age, attended almost her whole schooling in the West Indies,[15 ] bought a magnificent carriage, mounted it, took leave amid heralds and messengers, strolled forth upon five splendid stables, drove her horses homeward and presented her jewels and a pair petticoats studded\"\"\""
      ],
      "metadata": {
        "id": "Milw8lvA2JQk"
      },
      "execution_count": 16,
      "outputs": []
    },
    {
      "cell_type": "code",
      "source": [
        "import evaluate\n",
        "\n",
        "# Load metrics\n",
        "bleu = evaluate.load(\"bleu\")\n",
        "rouge = evaluate.load(\"rouge\")\n",
        "\n",
        "# BLEU expects strings, not tokenized lists\n",
        "bleu_score = bleu.compute(predictions=[generated_story], references=[reference_story])\n",
        "\n",
        "# ROUGE also expects strings\n",
        "rouge_score = rouge.compute(predictions=[generated_story], references=[reference_story])\n",
        "\n",
        "print(\"Generated Story:\\n\", generated_story)\n",
        "print(\"\\nReference Story:\\n\", reference_story[:500], \"...\")  # print first 500 chars\n",
        "print(\"\\nBLEU Score:\", bleu_score)\n",
        "print(\"ROUGE Score:\", rouge_score)\n"
      ],
      "metadata": {
        "colab": {
          "base_uri": "https://localhost:8080/"
        },
        "id": "jYjH6-1i1ZxS",
        "outputId": "1c0964d2-3a45-4cab-a4cb-91220dba24cd"
      },
      "execution_count": 17,
      "outputs": [
        {
          "output_type": "stream",
          "name": "stdout",
          "text": [
            "Generated Story:\n",
            " Once there lived a certain king who understood the language of all birdsAn old woman sat at her kitchen table, stirring curds and making custards with some fresh eggs and a potful of butter broth. Suddenly she saw something shining come dancing down from above her. It leaped about two feet high and made such crackling sounds as sent shivers up one's spines. \"Oh! Hoity-toity!\" shrieked Maie, jumping up and hurrying downstairs. \"It is a falcon! See what it does!\" Quickly setting the dishes down on another dish covered her head, Miëln left off washing the curds, put them back in their places without upsetting them (for which reason so many delighted Mies obtained good repute as well), stood up and asked the bird why it had done such amazing tricks, went aloft like someone soaring over earth, whiskers erect, plucked fruit out once ready laid; then swooping again home settled firmly in place like swallows, devoured everything under grass, nestled securely against trees and never stirred again until evening came round--always returning unharmed to the same spot whence it had come down or swoopingly scampered overhead. This wonderful bird, called Merlin, had three faces, each half-moon shaped and half serpentine. His body was entirely made only by magic, invisible hands, feet and wings having been added after diligent study. He gained admittance into the King Henry's court chiefly because of these talons, not because any prince liked him better than others. Yet those princes were often deceived by the mere sound sometimes given off by this mysterious being, for they followed whatever he said regardless if it proved to be a lie or truth. With regard always to the princesses whom he courted, though every suitor wisely observed precautions to prevent either false reports arising among them whatsoever nor false reports concerning their secret lovers being spread abroad, yet several months passed before anything could have happened otherwise than what might reasonably Have been expected.[14] When a girl became pregnant during this time a special agent of Habsburg China visited the royal castle frequently, giving orders that none should approach the proud monarch except strictly invited guests, bearing valid documents from the sovereign's minister. In due time a young Princess Mary came of age, attended almost her whole schooling in the West Indies,[15 ] bought a magnificent carriage, mounted it, took leave amid heralds and messengers, strolled forth upon five splendid stables, drove her horses homeward and presented her jewels and a pair petticoats studded\n",
            "\n",
            "Reference Story:\n",
            " Once there lived a certain king who understood the language of all birds and beasts and insects. This knowledge had of course been given him by a fairy godmother; but it was rather a troublesome present, for he knew that if he were ever to reveal anything he had thus learned he would turn into a stone. How he managed to avoid doing so long before this story opens I cannot say, but he had safely grown up to manhood, and married a wife, and was as happy as monarchs generally are.  This king, I mus ...\n",
            "\n",
            "BLEU Score: {'bleu': 0.008069075142309989, 'precisions': [0.43829787234042555, 0.057569296375266525, 0.021367521367521368, 0.019271948608137045], 'brevity_penalty': 0.14212279667085637, 'length_ratio': 0.33886085075702954, 'translation_length': 470, 'reference_length': 1387}\n",
            "ROUGE Score: {'rouge1': np.float64(0.21894218942189422), 'rouge2': np.float64(0.034482758620689655), 'rougeL': np.float64(0.0897908979089791), 'rougeLsum': np.float64(0.0897908979089791)}\n"
          ]
        }
      ]
    }
  ]
}