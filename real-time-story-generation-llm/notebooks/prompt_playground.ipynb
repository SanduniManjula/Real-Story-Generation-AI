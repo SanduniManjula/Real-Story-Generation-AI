{
 "cells": [
  {
   "cell_type": "markdown",
   "metadata": {},
   "source": [
    "# Prompt Engineering Playground\n",
    "Use this notebook to iterate on few-shot exemplars, constraints, and styles."
   ]
  },
  {
   "cell_type": "code",
   "execution_count": null,
   "metadata": {},
   "outputs": [],
   "source": [
    "from src.prompts import build_prompt\n",
    "seed = 'A city where shadows have names.'\n",
    "controls = dict(style='noir', pov='first-person', length='short', genre='mystery')\n",
    "print(build_prompt(seed, controls))"
   ]
  }
 ],
 "metadata": {
  "kernelspec": {
   "display_name": "Python 3",
   "language": "python",
   "name": "python3"
  },
  "language_info": {
   "name": "python"
  }
 },
 "nbformat": 4,
 "nbformat_minor": 5
}